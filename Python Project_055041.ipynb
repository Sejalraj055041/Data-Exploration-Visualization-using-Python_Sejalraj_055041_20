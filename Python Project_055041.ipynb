{
 "cells": [
  {
   "cell_type": "markdown",
   "id": "fba5e1aa-1d21-46de-8cc4-03e814ebdf3a",
   "metadata": {},
   "source": [
    "**Project Report on Imports and Exports Data Analysis**"
   ]
  },
  {
   "cell_type": "markdown",
   "id": "9cb4a83e-956b-4463-a9c3-6ae1ba937b9b",
   "metadata": {},
   "source": [
    "**Project Information:-**\n",
    "* **Project Title**: Comprehensive Analysis of Imports and Exports Dataset\n",
    "* **Student Name**: Navneet Mittal, Sejal Raj\n",
    "* **Enrollment Number** : 055026 , 055041"
   ]
  },
  {
   "cell_type": "code",
   "execution_count": 1,
   "id": "1aa17022-dc44-44b5-80ac-9044106b610d",
   "metadata": {},
   "outputs": [],
   "source": [
    "# Importing Relevant Python Libraries.\n",
    "import pandas as pd\n",
    "import numpy as np"
   ]
  },
  {
   "cell_type": "code",
   "execution_count": 6,
   "id": "b3ab6c98-3e32-4d3e-82fa-d5afbb57c4d5",
   "metadata": {},
   "outputs": [],
   "source": [
    "# Loading the Data.\n",
    "data = pd.read_csv('C:\\\\Users\\\\Dell\\\\Desktop\\\\CSV Files\\\\Stats\\\\Imports_Exports_Dataset.csv')"
   ]
  },
  {
   "cell_type": "code",
   "execution_count": 7,
   "id": "3da21b9c-3a91-41b5-b3d7-6101e39ebd4c",
   "metadata": {},
   "outputs": [
    {
     "data": {
      "text/plain": [
       "(15000, 16)"
      ]
     },
     "execution_count": 7,
     "metadata": {},
     "output_type": "execute_result"
    }
   ],
   "source": [
    "# Dimensions of Data.\n",
    "data.shape"
   ]
  },
  {
   "cell_type": "code",
   "execution_count": 14,
   "id": "eae41ff1-61bd-4412-b7ef-89d6eb1aef16",
   "metadata": {},
   "outputs": [],
   "source": [
    "# Creating a Unique Sample of 2001 Records using Student Roll Number as Random State.\n",
    "samp_data = data.sample(n=2001 , random_state= 5502641)"
   ]
  },
  {
   "cell_type": "code",
   "execution_count": 9,
   "id": "18aaf9d9-94e5-4836-bd6c-9935fbc3ce95",
   "metadata": {},
   "outputs": [
    {
     "data": {
      "text/plain": [
       "(2001, 16)"
      ]
     },
     "execution_count": 9,
     "metadata": {},
     "output_type": "execute_result"
    }
   ],
   "source": [
    "# Dimensions of Sample Data.\n",
    "samp_data.shape"
   ]
  },
  {
   "cell_type": "code",
   "execution_count": 10,
   "id": "a275ff0d-1f47-45f5-83f7-062875ee8401",
   "metadata": {},
   "outputs": [
    {
     "name": "stdout",
     "output_type": "stream",
     "text": [
      "<class 'pandas.core.frame.DataFrame'>\n",
      "Index: 2001 entries, 1153 to 14740\n",
      "Data columns (total 16 columns):\n",
      " #   Column           Non-Null Count  Dtype  \n",
      "---  ------           --------------  -----  \n",
      " 0   Transaction_ID   2001 non-null   object \n",
      " 1   Country          2001 non-null   object \n",
      " 2   Product          2001 non-null   object \n",
      " 3   Import_Export    2001 non-null   object \n",
      " 4   Quantity         2001 non-null   int64  \n",
      " 5   Value            2001 non-null   float64\n",
      " 6   Date             2001 non-null   object \n",
      " 7   Category         2001 non-null   object \n",
      " 8   Port             2001 non-null   object \n",
      " 9   Customs_Code     2001 non-null   int64  \n",
      " 10  Weight           2001 non-null   float64\n",
      " 11  Shipping_Method  2001 non-null   object \n",
      " 12  Supplier         2001 non-null   object \n",
      " 13  Customer         2001 non-null   object \n",
      " 14  Invoice_Number   2001 non-null   int64  \n",
      " 15  Payment_Terms    2001 non-null   object \n",
      "dtypes: float64(2), int64(3), object(11)\n",
      "memory usage: 265.8+ KB\n"
     ]
    }
   ],
   "source": [
    "# Sample Data Information.\n",
    "samp_data.info()"
   ]
  },
  {
   "cell_type": "code",
   "execution_count": 11,
   "id": "2a9dae43-e316-4f3d-b5e6-fd96e33ca618",
   "metadata": {},
   "outputs": [
    {
     "data": {
      "text/html": [
       "<div>\n",
       "<style scoped>\n",
       "    .dataframe tbody tr th:only-of-type {\n",
       "        vertical-align: middle;\n",
       "    }\n",
       "\n",
       "    .dataframe tbody tr th {\n",
       "        vertical-align: top;\n",
       "    }\n",
       "\n",
       "    .dataframe thead th {\n",
       "        text-align: right;\n",
       "    }\n",
       "</style>\n",
       "<table border=\"1\" class=\"dataframe\">\n",
       "  <thead>\n",
       "    <tr style=\"text-align: right;\">\n",
       "      <th></th>\n",
       "      <th>Transaction_ID</th>\n",
       "      <th>Country</th>\n",
       "      <th>Product</th>\n",
       "      <th>Import_Export</th>\n",
       "      <th>Quantity</th>\n",
       "      <th>Value</th>\n",
       "      <th>Date</th>\n",
       "      <th>Category</th>\n",
       "      <th>Port</th>\n",
       "      <th>Customs_Code</th>\n",
       "      <th>Weight</th>\n",
       "      <th>Shipping_Method</th>\n",
       "      <th>Supplier</th>\n",
       "      <th>Customer</th>\n",
       "      <th>Invoice_Number</th>\n",
       "      <th>Payment_Terms</th>\n",
       "    </tr>\n",
       "  </thead>\n",
       "  <tbody>\n",
       "    <tr>\n",
       "      <th>1153</th>\n",
       "      <td>59f88a69-0466-4d6b-96ba-d500ded1b802</td>\n",
       "      <td>Heard Island and McDonald Islands</td>\n",
       "      <td>story</td>\n",
       "      <td>Import</td>\n",
       "      <td>9890</td>\n",
       "      <td>8971.92</td>\n",
       "      <td>13-10-2022</td>\n",
       "      <td>Machinery</td>\n",
       "      <td>Joshuamouth</td>\n",
       "      <td>777146</td>\n",
       "      <td>1776.42</td>\n",
       "      <td>Land</td>\n",
       "      <td>Vincent, Williams and Harris</td>\n",
       "      <td>Dr. Adrian Green</td>\n",
       "      <td>2383093</td>\n",
       "      <td>Cash on Delivery</td>\n",
       "    </tr>\n",
       "    <tr>\n",
       "      <th>2328</th>\n",
       "      <td>ee5e256e-459e-4dc9-90c3-1d6007f1a41e</td>\n",
       "      <td>Cote d'Ivoire</td>\n",
       "      <td>which</td>\n",
       "      <td>Export</td>\n",
       "      <td>7377</td>\n",
       "      <td>8920.20</td>\n",
       "      <td>12/8/2024</td>\n",
       "      <td>Machinery</td>\n",
       "      <td>Colleenville</td>\n",
       "      <td>456599</td>\n",
       "      <td>2052.18</td>\n",
       "      <td>Sea</td>\n",
       "      <td>Jones-Jacobs</td>\n",
       "      <td>Steven Miller</td>\n",
       "      <td>10966152</td>\n",
       "      <td>Prepaid</td>\n",
       "    </tr>\n",
       "    <tr>\n",
       "      <th>9895</th>\n",
       "      <td>1882f6a9-0344-4264-b0f2-6cd023132e68</td>\n",
       "      <td>Madagascar</td>\n",
       "      <td>draw</td>\n",
       "      <td>Export</td>\n",
       "      <td>6372</td>\n",
       "      <td>6579.74</td>\n",
       "      <td>25-09-2021</td>\n",
       "      <td>Furniture</td>\n",
       "      <td>West Jacquelinetown</td>\n",
       "      <td>551642</td>\n",
       "      <td>4189.07</td>\n",
       "      <td>Air</td>\n",
       "      <td>Cruz Inc</td>\n",
       "      <td>Bobby Bailey</td>\n",
       "      <td>37523741</td>\n",
       "      <td>Net 30</td>\n",
       "    </tr>\n",
       "    <tr>\n",
       "      <th>8049</th>\n",
       "      <td>abcfd85e-b6d8-45c8-9385-78f4f596a3d9</td>\n",
       "      <td>Seychelles</td>\n",
       "      <td>everybody</td>\n",
       "      <td>Export</td>\n",
       "      <td>473</td>\n",
       "      <td>3006.31</td>\n",
       "      <td>23-11-2020</td>\n",
       "      <td>Furniture</td>\n",
       "      <td>East Paul</td>\n",
       "      <td>306655</td>\n",
       "      <td>2186.25</td>\n",
       "      <td>Land</td>\n",
       "      <td>Garcia-Welch</td>\n",
       "      <td>Samantha Richardson</td>\n",
       "      <td>967414</td>\n",
       "      <td>Net 30</td>\n",
       "    </tr>\n",
       "    <tr>\n",
       "      <th>4481</th>\n",
       "      <td>803c51a1-ea8f-4d1f-91c1-7a71520d9629</td>\n",
       "      <td>Austria</td>\n",
       "      <td>green</td>\n",
       "      <td>Import</td>\n",
       "      <td>8461</td>\n",
       "      <td>5679.58</td>\n",
       "      <td>31-12-2022</td>\n",
       "      <td>Furniture</td>\n",
       "      <td>Port Haley</td>\n",
       "      <td>664010</td>\n",
       "      <td>2519.64</td>\n",
       "      <td>Air</td>\n",
       "      <td>Maddox Inc</td>\n",
       "      <td>Jonathan Mccoy</td>\n",
       "      <td>41337604</td>\n",
       "      <td>Net 30</td>\n",
       "    </tr>\n",
       "  </tbody>\n",
       "</table>\n",
       "</div>"
      ],
      "text/plain": [
       "                            Transaction_ID                            Country  \\\n",
       "1153  59f88a69-0466-4d6b-96ba-d500ded1b802  Heard Island and McDonald Islands   \n",
       "2328  ee5e256e-459e-4dc9-90c3-1d6007f1a41e                      Cote d'Ivoire   \n",
       "9895  1882f6a9-0344-4264-b0f2-6cd023132e68                         Madagascar   \n",
       "8049  abcfd85e-b6d8-45c8-9385-78f4f596a3d9                         Seychelles   \n",
       "4481  803c51a1-ea8f-4d1f-91c1-7a71520d9629                            Austria   \n",
       "\n",
       "        Product Import_Export  Quantity    Value        Date   Category  \\\n",
       "1153      story        Import      9890  8971.92  13-10-2022  Machinery   \n",
       "2328      which        Export      7377  8920.20   12/8/2024  Machinery   \n",
       "9895       draw        Export      6372  6579.74  25-09-2021  Furniture   \n",
       "8049  everybody        Export       473  3006.31  23-11-2020  Furniture   \n",
       "4481      green        Import      8461  5679.58  31-12-2022  Furniture   \n",
       "\n",
       "                     Port  Customs_Code   Weight Shipping_Method  \\\n",
       "1153          Joshuamouth        777146  1776.42            Land   \n",
       "2328         Colleenville        456599  2052.18             Sea   \n",
       "9895  West Jacquelinetown        551642  4189.07             Air   \n",
       "8049            East Paul        306655  2186.25            Land   \n",
       "4481           Port Haley        664010  2519.64             Air   \n",
       "\n",
       "                          Supplier             Customer  Invoice_Number  \\\n",
       "1153  Vincent, Williams and Harris     Dr. Adrian Green         2383093   \n",
       "2328                  Jones-Jacobs        Steven Miller        10966152   \n",
       "9895                      Cruz Inc         Bobby Bailey        37523741   \n",
       "8049                  Garcia-Welch  Samantha Richardson          967414   \n",
       "4481                    Maddox Inc       Jonathan Mccoy        41337604   \n",
       "\n",
       "         Payment_Terms  \n",
       "1153  Cash on Delivery  \n",
       "2328           Prepaid  \n",
       "9895            Net 30  \n",
       "8049            Net 30  \n",
       "4481            Net 30  "
      ]
     },
     "execution_count": 11,
     "metadata": {},
     "output_type": "execute_result"
    }
   ],
   "source": [
    "# First 05 Records of the Sample Data\n",
    "samp_data.head()"
   ]
  },
  {
   "cell_type": "code",
   "execution_count": 13,
   "id": "8715946c-e386-4490-a524-d396da4f96e1",
   "metadata": {},
   "outputs": [
    {
     "data": {
      "text/plain": [
       "Index(['Transaction_ID', 'Country', 'Product', 'Import_Export', 'Quantity',\n",
       "       'Value', 'Date', 'Category', 'Port', 'Customs_Code', 'Weight',\n",
       "       'Shipping_Method', 'Supplier', 'Customer', 'Invoice_Number',\n",
       "       'Payment_Terms'],\n",
       "      dtype='object')"
      ]
     },
     "execution_count": 13,
     "metadata": {},
     "output_type": "execute_result"
    }
   ],
   "source": [
    "# Names of Columns(Variables)\n",
    "samp_data.columns"
   ]
  },
  {
   "cell_type": "markdown",
   "id": "31e68c96-fe0a-42b3-a409-cfa9e5788409",
   "metadata": {},
   "source": []
  },
  {
   "cell_type": "markdown",
   "id": "c6d20b64-4e25-4f67-ac63-d25e4304e38c",
   "metadata": {},
   "source": [
    "**Description of Data**\n",
    "\n",
    "* **1.Data Source & Size:**\n",
    "\n",
    "* Source: The dataset for this project was obtained from Kaggle.\n",
    "* Size: 15,000 records with 16 variables.\n",
    "  \n",
    "  \n",
    "* **2. Data Type:**\n",
    "This is a Cross-sectional dataset, capturing transactional data at a specific point in time.\n",
    "\n",
    "\n",
    "  **3.Data Dimension:**\n",
    "\n",
    "* Number of Variables: 16\n",
    "* Number of Observations: 15,000\n",
    "  \n",
    "  \n",
    "* **4.Data Variable Type:**\n",
    "\n",
    "* Text Variables:\n",
    "Transaction_ID, Country, Product, Import_Export, Date, Category, Port, Shipping_Method, Supplier, Customer, Payment_Terms\n",
    "* Number Variables:\n",
    "Integer: Quantity, Customs_Code, Invoice_Number\n",
    "* Decimal: Value, Weight\n",
    "\n",
    "\n",
    "* **5.Data Variable Category**:\n",
    "\n",
    "* Index: Transaction_ID, Invoice_Number (used for identifying each transaction)\n",
    "* Categorical (Nominal): Country, Product, Import_Export, Category, Port, Shipping_Method, Supplier, Customer, Payment_Terms\n",
    "* Categorical (Ordinal): \n",
    "* Non-Categorical: Quantity, Value, Customs_Code, Weight"
   ]
  },
  {
   "cell_type": "code",
   "execution_count": 18,
   "id": "9465c6ff-0c76-4ff1-a800-0ebb55b38a47",
   "metadata": {},
   "outputs": [
    {
     "data": {
      "text/html": [
       "<div>\n",
       "<style scoped>\n",
       "    .dataframe tbody tr th:only-of-type {\n",
       "        vertical-align: middle;\n",
       "    }\n",
       "\n",
       "    .dataframe tbody tr th {\n",
       "        vertical-align: top;\n",
       "    }\n",
       "\n",
       "    .dataframe thead th {\n",
       "        text-align: right;\n",
       "    }\n",
       "</style>\n",
       "<table border=\"1\" class=\"dataframe\">\n",
       "  <thead>\n",
       "    <tr style=\"text-align: right;\">\n",
       "      <th></th>\n",
       "      <th>Quantity</th>\n",
       "      <th>Value</th>\n",
       "      <th>Customs_Code</th>\n",
       "      <th>Weight</th>\n",
       "    </tr>\n",
       "  </thead>\n",
       "  <tbody>\n",
       "    <tr>\n",
       "      <th>1153</th>\n",
       "      <td>9890</td>\n",
       "      <td>8971.92</td>\n",
       "      <td>777146</td>\n",
       "      <td>1776.42</td>\n",
       "    </tr>\n",
       "    <tr>\n",
       "      <th>2328</th>\n",
       "      <td>7377</td>\n",
       "      <td>8920.20</td>\n",
       "      <td>456599</td>\n",
       "      <td>2052.18</td>\n",
       "    </tr>\n",
       "    <tr>\n",
       "      <th>9895</th>\n",
       "      <td>6372</td>\n",
       "      <td>6579.74</td>\n",
       "      <td>551642</td>\n",
       "      <td>4189.07</td>\n",
       "    </tr>\n",
       "    <tr>\n",
       "      <th>8049</th>\n",
       "      <td>473</td>\n",
       "      <td>3006.31</td>\n",
       "      <td>306655</td>\n",
       "      <td>2186.25</td>\n",
       "    </tr>\n",
       "    <tr>\n",
       "      <th>4481</th>\n",
       "      <td>8461</td>\n",
       "      <td>5679.58</td>\n",
       "      <td>664010</td>\n",
       "      <td>2519.64</td>\n",
       "    </tr>\n",
       "    <tr>\n",
       "      <th>...</th>\n",
       "      <td>...</td>\n",
       "      <td>...</td>\n",
       "      <td>...</td>\n",
       "      <td>...</td>\n",
       "    </tr>\n",
       "    <tr>\n",
       "      <th>11093</th>\n",
       "      <td>6462</td>\n",
       "      <td>2154.05</td>\n",
       "      <td>364164</td>\n",
       "      <td>1318.40</td>\n",
       "    </tr>\n",
       "    <tr>\n",
       "      <th>601</th>\n",
       "      <td>4586</td>\n",
       "      <td>4692.39</td>\n",
       "      <td>954818</td>\n",
       "      <td>288.59</td>\n",
       "    </tr>\n",
       "    <tr>\n",
       "      <th>11994</th>\n",
       "      <td>1899</td>\n",
       "      <td>5963.86</td>\n",
       "      <td>871627</td>\n",
       "      <td>4292.54</td>\n",
       "    </tr>\n",
       "    <tr>\n",
       "      <th>11261</th>\n",
       "      <td>4459</td>\n",
       "      <td>4546.47</td>\n",
       "      <td>411136</td>\n",
       "      <td>1361.23</td>\n",
       "    </tr>\n",
       "    <tr>\n",
       "      <th>14740</th>\n",
       "      <td>388</td>\n",
       "      <td>7168.21</td>\n",
       "      <td>265228</td>\n",
       "      <td>3686.30</td>\n",
       "    </tr>\n",
       "  </tbody>\n",
       "</table>\n",
       "<p>2001 rows × 4 columns</p>\n",
       "</div>"
      ],
      "text/plain": [
       "       Quantity    Value  Customs_Code   Weight\n",
       "1153       9890  8971.92        777146  1776.42\n",
       "2328       7377  8920.20        456599  2052.18\n",
       "9895       6372  6579.74        551642  4189.07\n",
       "8049        473  3006.31        306655  2186.25\n",
       "4481       8461  5679.58        664010  2519.64\n",
       "...         ...      ...           ...      ...\n",
       "11093      6462  2154.05        364164  1318.40\n",
       "601        4586  4692.39        954818   288.59\n",
       "11994      1899  5963.86        871627  4292.54\n",
       "11261      4459  4546.47        411136  1361.23\n",
       "14740       388  7168.21        265228  3686.30\n",
       "\n",
       "[2001 rows x 4 columns]"
      ]
     },
     "execution_count": 18,
     "metadata": {},
     "output_type": "execute_result"
    }
   ],
   "source": [
    "# Subseting the Non-Categorical Variables.\n",
    "non_cat_columns = ['Quantity', 'Value', 'Customs_Code', 'Weight']\n",
    "non_cat_df = samp_data[non_cat_columns]\n",
    "non_cat_df"
   ]
  },
  {
   "cell_type": "code",
   "execution_count": 17,
   "id": "98293622-2512-410e-9887-b88f2bf6d257",
   "metadata": {},
   "outputs": [
    {
     "data": {
      "text/html": [
       "<div>\n",
       "<style scoped>\n",
       "    .dataframe tbody tr th:only-of-type {\n",
       "        vertical-align: middle;\n",
       "    }\n",
       "\n",
       "    .dataframe tbody tr th {\n",
       "        vertical-align: top;\n",
       "    }\n",
       "\n",
       "    .dataframe thead th {\n",
       "        text-align: right;\n",
       "    }\n",
       "</style>\n",
       "<table border=\"1\" class=\"dataframe\">\n",
       "  <thead>\n",
       "    <tr style=\"text-align: right;\">\n",
       "      <th></th>\n",
       "      <th>Quantity</th>\n",
       "      <th>Value</th>\n",
       "      <th>Customs_Code</th>\n",
       "      <th>Weight</th>\n",
       "    </tr>\n",
       "  </thead>\n",
       "  <tbody>\n",
       "    <tr>\n",
       "      <th>count</th>\n",
       "      <td>2001.000000</td>\n",
       "      <td>2001.000000</td>\n",
       "      <td>2001.000000</td>\n",
       "      <td>2001.000000</td>\n",
       "    </tr>\n",
       "    <tr>\n",
       "      <th>mean</th>\n",
       "      <td>4943.752124</td>\n",
       "      <td>5169.340180</td>\n",
       "      <td>547866.937031</td>\n",
       "      <td>2468.645277</td>\n",
       "    </tr>\n",
       "    <tr>\n",
       "      <th>std</th>\n",
       "      <td>2830.488951</td>\n",
       "      <td>2857.323647</td>\n",
       "      <td>260475.961715</td>\n",
       "      <td>1452.860105</td>\n",
       "    </tr>\n",
       "    <tr>\n",
       "      <th>min</th>\n",
       "      <td>12.000000</td>\n",
       "      <td>102.120000</td>\n",
       "      <td>100171.000000</td>\n",
       "      <td>1.520000</td>\n",
       "    </tr>\n",
       "    <tr>\n",
       "      <th>25%</th>\n",
       "      <td>2553.000000</td>\n",
       "      <td>2742.760000</td>\n",
       "      <td>321268.000000</td>\n",
       "      <td>1257.530000</td>\n",
       "    </tr>\n",
       "    <tr>\n",
       "      <th>50%</th>\n",
       "      <td>4882.000000</td>\n",
       "      <td>5193.180000</td>\n",
       "      <td>546926.000000</td>\n",
       "      <td>2445.100000</td>\n",
       "    </tr>\n",
       "    <tr>\n",
       "      <th>75%</th>\n",
       "      <td>7449.000000</td>\n",
       "      <td>7635.660000</td>\n",
       "      <td>778150.000000</td>\n",
       "      <td>3709.850000</td>\n",
       "    </tr>\n",
       "    <tr>\n",
       "      <th>max</th>\n",
       "      <td>9994.000000</td>\n",
       "      <td>9995.060000</td>\n",
       "      <td>999964.000000</td>\n",
       "      <td>4997.080000</td>\n",
       "    </tr>\n",
       "  </tbody>\n",
       "</table>\n",
       "</div>"
      ],
      "text/plain": [
       "          Quantity        Value   Customs_Code       Weight\n",
       "count  2001.000000  2001.000000    2001.000000  2001.000000\n",
       "mean   4943.752124  5169.340180  547866.937031  2468.645277\n",
       "std    2830.488951  2857.323647  260475.961715  1452.860105\n",
       "min      12.000000   102.120000  100171.000000     1.520000\n",
       "25%    2553.000000  2742.760000  321268.000000  1257.530000\n",
       "50%    4882.000000  5193.180000  546926.000000  2445.100000\n",
       "75%    7449.000000  7635.660000  778150.000000  3709.850000\n",
       "max    9994.000000  9995.060000  999964.000000  4997.080000"
      ]
     },
     "execution_count": 17,
     "metadata": {},
     "output_type": "execute_result"
    }
   ],
   "source": [
    "# Descriptive Statistics of the Non-Categorical Set.\n",
    "non_cat_stats = non_cat_df.describe()\n",
    "\n",
    "# Display the statistics\n",
    "non_cat_stats"
   ]
  },
  {
   "cell_type": "code",
   "execution_count": 19,
   "id": "7d4d09a3-d2b5-4c36-b7b0-c4b99251eb08",
   "metadata": {},
   "outputs": [
    {
     "data": {
      "text/html": [
       "<div>\n",
       "<style scoped>\n",
       "    .dataframe tbody tr th:only-of-type {\n",
       "        vertical-align: middle;\n",
       "    }\n",
       "\n",
       "    .dataframe tbody tr th {\n",
       "        vertical-align: top;\n",
       "    }\n",
       "\n",
       "    .dataframe thead th {\n",
       "        text-align: right;\n",
       "    }\n",
       "</style>\n",
       "<table border=\"1\" class=\"dataframe\">\n",
       "  <thead>\n",
       "    <tr style=\"text-align: right;\">\n",
       "      <th></th>\n",
       "      <th>Country</th>\n",
       "      <th>Product</th>\n",
       "      <th>Import_Export</th>\n",
       "      <th>Category</th>\n",
       "      <th>Port</th>\n",
       "      <th>Shipping_Method</th>\n",
       "      <th>Supplier</th>\n",
       "      <th>Customer</th>\n",
       "      <th>Payment_Terms</th>\n",
       "    </tr>\n",
       "  </thead>\n",
       "  <tbody>\n",
       "    <tr>\n",
       "      <th>1153</th>\n",
       "      <td>Heard Island and McDonald Islands</td>\n",
       "      <td>story</td>\n",
       "      <td>Import</td>\n",
       "      <td>Machinery</td>\n",
       "      <td>Joshuamouth</td>\n",
       "      <td>Land</td>\n",
       "      <td>Vincent, Williams and Harris</td>\n",
       "      <td>Dr. Adrian Green</td>\n",
       "      <td>Cash on Delivery</td>\n",
       "    </tr>\n",
       "    <tr>\n",
       "      <th>2328</th>\n",
       "      <td>Cote d'Ivoire</td>\n",
       "      <td>which</td>\n",
       "      <td>Export</td>\n",
       "      <td>Machinery</td>\n",
       "      <td>Colleenville</td>\n",
       "      <td>Sea</td>\n",
       "      <td>Jones-Jacobs</td>\n",
       "      <td>Steven Miller</td>\n",
       "      <td>Prepaid</td>\n",
       "    </tr>\n",
       "    <tr>\n",
       "      <th>9895</th>\n",
       "      <td>Madagascar</td>\n",
       "      <td>draw</td>\n",
       "      <td>Export</td>\n",
       "      <td>Furniture</td>\n",
       "      <td>West Jacquelinetown</td>\n",
       "      <td>Air</td>\n",
       "      <td>Cruz Inc</td>\n",
       "      <td>Bobby Bailey</td>\n",
       "      <td>Net 30</td>\n",
       "    </tr>\n",
       "    <tr>\n",
       "      <th>8049</th>\n",
       "      <td>Seychelles</td>\n",
       "      <td>everybody</td>\n",
       "      <td>Export</td>\n",
       "      <td>Furniture</td>\n",
       "      <td>East Paul</td>\n",
       "      <td>Land</td>\n",
       "      <td>Garcia-Welch</td>\n",
       "      <td>Samantha Richardson</td>\n",
       "      <td>Net 30</td>\n",
       "    </tr>\n",
       "    <tr>\n",
       "      <th>4481</th>\n",
       "      <td>Austria</td>\n",
       "      <td>green</td>\n",
       "      <td>Import</td>\n",
       "      <td>Furniture</td>\n",
       "      <td>Port Haley</td>\n",
       "      <td>Air</td>\n",
       "      <td>Maddox Inc</td>\n",
       "      <td>Jonathan Mccoy</td>\n",
       "      <td>Net 30</td>\n",
       "    </tr>\n",
       "    <tr>\n",
       "      <th>...</th>\n",
       "      <td>...</td>\n",
       "      <td>...</td>\n",
       "      <td>...</td>\n",
       "      <td>...</td>\n",
       "      <td>...</td>\n",
       "      <td>...</td>\n",
       "      <td>...</td>\n",
       "      <td>...</td>\n",
       "      <td>...</td>\n",
       "    </tr>\n",
       "    <tr>\n",
       "      <th>11093</th>\n",
       "      <td>Indonesia</td>\n",
       "      <td>wonder</td>\n",
       "      <td>Export</td>\n",
       "      <td>Toys</td>\n",
       "      <td>Lynnmouth</td>\n",
       "      <td>Air</td>\n",
       "      <td>Pena Inc</td>\n",
       "      <td>Stephanie West</td>\n",
       "      <td>Prepaid</td>\n",
       "    </tr>\n",
       "    <tr>\n",
       "      <th>601</th>\n",
       "      <td>Italy</td>\n",
       "      <td>baby</td>\n",
       "      <td>Import</td>\n",
       "      <td>Toys</td>\n",
       "      <td>Gabrielafort</td>\n",
       "      <td>Air</td>\n",
       "      <td>Silva Inc</td>\n",
       "      <td>Dwayne Riley</td>\n",
       "      <td>Cash on Delivery</td>\n",
       "    </tr>\n",
       "    <tr>\n",
       "      <th>11994</th>\n",
       "      <td>Guernsey</td>\n",
       "      <td>game</td>\n",
       "      <td>Import</td>\n",
       "      <td>Clothing</td>\n",
       "      <td>North Linda</td>\n",
       "      <td>Sea</td>\n",
       "      <td>Peters LLC</td>\n",
       "      <td>Michael Watson</td>\n",
       "      <td>Cash on Delivery</td>\n",
       "    </tr>\n",
       "    <tr>\n",
       "      <th>11261</th>\n",
       "      <td>Estonia</td>\n",
       "      <td>together</td>\n",
       "      <td>Import</td>\n",
       "      <td>Toys</td>\n",
       "      <td>North Tiffany</td>\n",
       "      <td>Sea</td>\n",
       "      <td>Johnson-Willis</td>\n",
       "      <td>Samantha Floyd</td>\n",
       "      <td>Cash on Delivery</td>\n",
       "    </tr>\n",
       "    <tr>\n",
       "      <th>14740</th>\n",
       "      <td>Chile</td>\n",
       "      <td>throughout</td>\n",
       "      <td>Export</td>\n",
       "      <td>Machinery</td>\n",
       "      <td>Frankfort</td>\n",
       "      <td>Air</td>\n",
       "      <td>Garcia Inc</td>\n",
       "      <td>Katie Smith MD</td>\n",
       "      <td>Cash on Delivery</td>\n",
       "    </tr>\n",
       "  </tbody>\n",
       "</table>\n",
       "<p>2001 rows × 9 columns</p>\n",
       "</div>"
      ],
      "text/plain": [
       "                                 Country     Product Import_Export   Category  \\\n",
       "1153   Heard Island and McDonald Islands       story        Import  Machinery   \n",
       "2328                       Cote d'Ivoire       which        Export  Machinery   \n",
       "9895                          Madagascar        draw        Export  Furniture   \n",
       "8049                          Seychelles   everybody        Export  Furniture   \n",
       "4481                             Austria       green        Import  Furniture   \n",
       "...                                  ...         ...           ...        ...   \n",
       "11093                          Indonesia      wonder        Export       Toys   \n",
       "601                                Italy        baby        Import       Toys   \n",
       "11994                           Guernsey        game        Import   Clothing   \n",
       "11261                            Estonia    together        Import       Toys   \n",
       "14740                              Chile  throughout        Export  Machinery   \n",
       "\n",
       "                      Port Shipping_Method                      Supplier  \\\n",
       "1153           Joshuamouth            Land  Vincent, Williams and Harris   \n",
       "2328          Colleenville             Sea                  Jones-Jacobs   \n",
       "9895   West Jacquelinetown             Air                      Cruz Inc   \n",
       "8049             East Paul            Land                  Garcia-Welch   \n",
       "4481            Port Haley             Air                    Maddox Inc   \n",
       "...                    ...             ...                           ...   \n",
       "11093            Lynnmouth             Air                      Pena Inc   \n",
       "601           Gabrielafort             Air                     Silva Inc   \n",
       "11994          North Linda             Sea                    Peters LLC   \n",
       "11261        North Tiffany             Sea                Johnson-Willis   \n",
       "14740            Frankfort             Air                    Garcia Inc   \n",
       "\n",
       "                  Customer     Payment_Terms  \n",
       "1153      Dr. Adrian Green  Cash on Delivery  \n",
       "2328         Steven Miller           Prepaid  \n",
       "9895          Bobby Bailey            Net 30  \n",
       "8049   Samantha Richardson            Net 30  \n",
       "4481        Jonathan Mccoy            Net 30  \n",
       "...                    ...               ...  \n",
       "11093       Stephanie West           Prepaid  \n",
       "601           Dwayne Riley  Cash on Delivery  \n",
       "11994       Michael Watson  Cash on Delivery  \n",
       "11261       Samantha Floyd  Cash on Delivery  \n",
       "14740       Katie Smith MD  Cash on Delivery  \n",
       "\n",
       "[2001 rows x 9 columns]"
      ]
     },
     "execution_count": 19,
     "metadata": {},
     "output_type": "execute_result"
    }
   ],
   "source": [
    "#Subseting the Categorical Variables.\n",
    "cat_variables = [\"Country\", \"Product\", \"Import_Export\", \"Category\", \"Port\", \"Shipping_Method\", \"Supplier\", \"Customer\", \"Payment_Terms\"]\n",
    "categorical = samp_data[cat_variables]\n",
    "categorical"
   ]
  },
  {
   "cell_type": "code",
   "execution_count": 20,
   "id": "96dc5afb-3dfe-41b4-a7e1-6e47273bc6d8",
   "metadata": {},
   "outputs": [
    {
     "data": {
      "text/plain": [
       "Category\n",
       "Electronics    417\n",
       "Clothing       403\n",
       "Furniture      402\n",
       "Machinery      390\n",
       "Toys           389\n",
       "Name: count, dtype: int64"
      ]
     },
     "execution_count": 20,
     "metadata": {},
     "output_type": "execute_result"
    }
   ],
   "source": [
    "#Descriptive Statistics of Any 01 Categorical Variable.\n",
    "samp_data[\"Category\"].value_counts()"
   ]
  },
  {
   "cell_type": "markdown",
   "id": "e226e4ba-a4c2-460e-a64b-0c20bc68a34f",
   "metadata": {},
   "source": [
    "**Project Objectives | Problem Statements**\n",
    "\n",
    "* Objective 1: Identify key trends in import and export activities across different countries and product categories.\n",
    "* Objective 2: Understand the distribution of transaction values and quantities across various categories.\n",
    "* Objective 3: Analyze the most frequently used shipping methods and their relationship to transaction value and weight.\n",
    "  \n",
    "* Problem Statement 1: How do different countries vary in terms of the volume and value of imports and exports?\n",
    "* Problem Statement 2: Are there specific product categories that dominate in terms of trade volume and value?\n",
    "* Problem Statement 3: What are the most commonly used shipping methods for high-value transactions?"
   ]
  },
  {
   "cell_type": "markdown",
   "id": "de999e0e-a7e6-423f-b49d-f00c625747b4",
   "metadata": {},
   "source": [
    "## **1.Descriptive Statistics**"
   ]
  },
  {
   "cell_type": "markdown",
   "id": "eee787aa-11e6-4546-85dd-d41413cc6e55",
   "metadata": {},
   "source": [
    "**Measures of Central Tendency**"
   ]
  },
  {
   "cell_type": "code",
   "execution_count": 21,
   "id": "1ffadd3d-aa79-4de1-8324-9ba2261d688d",
   "metadata": {},
   "outputs": [
    {
     "name": "stdout",
     "output_type": "stream",
     "text": [
      "Mean:\n",
      " Quantity    4943.752124\n",
      "Value       5169.340180\n",
      "Weight      2468.645277\n",
      "dtype: float64\n",
      "Median:\n",
      " Quantity    4882.00\n",
      "Value       5193.18\n",
      "Weight      2445.10\n",
      "dtype: float64\n",
      "Mode:\n",
      "     Weight\n",
      "0   445.36\n",
      "1  1292.49\n",
      "2  2160.69\n",
      "3  3249.49\n",
      "4  3316.12\n",
      "5  3910.38\n"
     ]
    }
   ],
   "source": [
    "# Mean, Median, Mode\n",
    "non_cat_df_1 = non_cat_df = samp_data[[\"Quantity\", \"Value\", \"Weight\"]] \n",
    "mean_values = non_cat_df_1.mean()\n",
    "median_values = non_cat_df_1.median()\n",
    "mode_values = samp_data[[\"Weight\"]].mode()\n",
    "\n",
    "print(\"Mean:\\n\", mean_values)\n",
    "print(\"Median:\\n\", median_values)\n",
    "print(\"Mode:\\n\", mode_values)"
   ]
  },
  {
   "cell_type": "markdown",
   "id": "0d80ec5e-c571-4799-8340-d1145e9dee1e",
   "metadata": {},
   "source": [
    "# Mean Interpretation:\n",
    "Quantity (Mean: 4943.75): On average, the dataset shows that the quantity of goods involved in the transactions is approximately 4943.75 units.\n",
    "\n",
    "Value (Mean: 5169.34): The mean value of the goods in each transaction is around 5169.34, which suggests a general average transaction value across the dataset.\n",
    "\n",
    "Weight (Mean: 2468.64): The average weight of the goods in each transaction is approximately 2468.64 units, indicating the typical weight being handled per transaction.\n",
    "\n",
    "\n",
    "# Median Interpretation:\n",
    "Quantity (Median: 4882.00): The median quantity is 4882 units, meaning that half of the transactions have a quantity below 4882 and the other half have a quantity above it. This indicates that most transactions revolve around this quantity.\n",
    "\n",
    "Value (Median: 5193.18): The median value is 5193.18, indicating that half of the transactions are valued below this amount, and half are above. Since the median and mean are quite close, the data may not have extreme outliers.\n",
    "\n",
    "Weight (Median: 2445.10): The median weight is 2445.10, meaning the central value of the dataset is around this number. Similar to the other variables, the mean and median are close, which suggests a fairly even distribution of data without major outliers.\n",
    "\n",
    "\n",
    "# Mode Interpretation:\n",
    "Weight (Modes: 445.36, 1292.49, 2160.69, 3249.49, 3316.12, 3910.38):  Since there are multiple modes for the weight, this suggests that the data is multimodal, meaning there are several common weights that appear repeatedly. These weights likely correspond to specific categories or shipment types that occur frequently.\n",
    "\n",
    "In summary, the mean and median for Quantity, Value, and Weight are relatively close, suggesting that the dataset is fairly balanced without significant outliers. However, the multiple modes in Weight indicate that some weights are more common than others, potentially reflecting different types of shipments or goods being traded at various weight levels."
   ]
  },
  {
   "cell_type": "markdown",
   "id": "7ce192f0-3996-4693-85c4-b8d9d5894dd5",
   "metadata": {},
   "source": [
    " **Measures of Dispersion**"
   ]
  },
  {
   "cell_type": "code",
   "execution_count": 22,
   "id": "d6ca541e-0f43-4b5e-9d4c-1fd974383c9f",
   "metadata": {},
   "outputs": [
    {
     "name": "stdout",
     "output_type": "stream",
     "text": [
      "Range:\n",
      " Quantity    9982.00\n",
      "Value       9892.94\n",
      "Weight      4995.56\n",
      "dtype: float64\n",
      "Standard Deviation:\n",
      " Quantity    2830.488951\n",
      "Value       2857.323647\n",
      "Weight      1452.860105\n",
      "dtype: float64\n",
      "Variance:\n",
      " Quantity    8.011668e+06\n",
      "Value       8.164298e+06\n",
      "Weight      2.110802e+06\n",
      "dtype: float64\n"
     ]
    }
   ],
   "source": [
    "# Range, Standard Deviation, Variance\n",
    "range_values = non_cat_df.max() - non_cat_df.min()\n",
    "std_dev_values = non_cat_df.std()\n",
    "variance_values = non_cat_df.var()\n",
    "\n",
    "print(\"Range:\\n\", range_values)\n",
    "print(\"Standard Deviation:\\n\", std_dev_values)\n",
    "print(\"Variance:\\n\", variance_values)"
   ]
  },
  {
   "cell_type": "markdown",
   "id": "62723cf1-0098-4bcb-b351-e86df63d29b5",
   "metadata": {},
   "source": [
    "# Range Interpretation:\n",
    "Quantity (Range: 9982.00): The difference between the maximum and minimum quantities in the dataset is 9982 units, indicating a wide variation in the number of goods involved in each transaction.\n",
    "\n",
    "Value (Range: 9892.94): The range of values across transactions is 9892.94, which suggests significant variability in the monetary value of transactions.\n",
    "\n",
    "Weight (Range: 4995.56): The weight of goods ranges over 4995.56 units, showing that shipments can vary greatly in terms of how heavy they are.\n",
    "The range provides a quick overview of the spread in the data, but it doesn’t account for how the data is distributed between the extremes.\n",
    "\n",
    "# Standard Deviation Interpretation:\n",
    "Quantity (Standard Deviation: 2830.48): The quantity of goods varies by about 2830.48 units from the mean. A large standard deviation relative to the mean indicates that there is considerable variation in the quantity of goods across transactions.\n",
    "\n",
    "Value (Standard Deviation: 2857.32): The standard deviation for transaction values is 2857.32, meaning that the value of goods in each transaction tends to deviate from the mean by this amount. Again, this indicates significant variability in transaction values.\n",
    "\n",
    "Weight (Standard Deviation: 1452.86): The weights of shipments tend to vary by about 1452.86 units from the mean. This suggests moderate variability in shipment weights, though less than the variability seen in quantity and value.\n",
    "\n",
    "# Variance Interpretation:\n",
    "Quantity (Variance: 8.01e+06): The variance for quantity is 8.01 million, which is the square of the standard deviation. This large number reflects the wide range and significant variation in quantities across transactions.\n",
    "\n",
    "Value (Variance: 8.16e+06): The variance in the value of transactions is about 8.16 million. This again shows substantial variability in transaction values, aligned with the wide range observed.\n",
    "\n",
    "Weight (Variance: 2.11e+06): The variance for weight is 2.11 million. This lower variance compared to quantity and value indicates that the weights are less spread out across transactions than the other two variables."
   ]
  },
  {
   "cell_type": "markdown",
   "id": "9723277d-da4e-4998-9e25-55714d00671e",
   "metadata": {},
   "source": [
    " **Skewness and Kurtosis**"
   ]
  },
  {
   "cell_type": "code",
   "execution_count": 23,
   "id": "84923a91-dbb5-4536-8760-445921b42d19",
   "metadata": {},
   "outputs": [
    {
     "name": "stdout",
     "output_type": "stream",
     "text": [
      "Skewness:\n",
      " Quantity    0.056623\n",
      "Value      -0.044198\n",
      "Weight      0.058928\n",
      "dtype: float64\n",
      "Kurtosis:\n",
      " Quantity   -1.163602\n",
      "Value      -1.180518\n",
      "Weight     -1.183436\n",
      "dtype: float64\n"
     ]
    }
   ],
   "source": [
    "# Skewness and Kurtosis\n",
    "skewness = non_cat_df.skew()\n",
    "kurtosis = non_cat_df.kurt()\n",
    "\n",
    "print(\"Skewness:\\n\", skewness)\n",
    "print(\"Kurtosis:\\n\", kurtosis)"
   ]
  },
  {
   "cell_type": "markdown",
   "id": "963800bd-5e5f-4f18-b971-8950d4587968",
   "metadata": {},
   "source": [
    "# Skewness Interpretation:\n",
    "All three values are very close to zero, indicating that the distributions of Quantity, Value, and Weight are approximately symmetrical.\n",
    "\n",
    "Quantity and Value have very slight negative skewness, suggesting a very minor tendency for data to fall more frequently on the right side of the distribution.\n",
    "# Kurtosis Interpretation:\n",
    "Weight has a very slight positive skewness, indicating a very minor tendency for data to fall more frequently on the left side of the distribution.\n",
    "\n",
    "All three values are negative, indicating that the distributions of Quantity, Value, and Weight have lighter tails and flatter peaks compared to a normal distribution.\n",
    "\n",
    "The negative kurtosis suggests that extreme values are less frequent, and the overall shape of the distribution is more flat-topped compared to the normal distribution."
   ]
  },
  {
   "cell_type": "markdown",
   "id": "eac68d14-8bd4-4eb6-9f12-02f41384d179",
   "metadata": {},
   "source": [
    "**Correlation between Non-Categorical Variables**"
   ]
  },
  {
   "cell_type": "code",
   "execution_count": 24,
   "id": "4d416be9-bfcd-43df-9c93-558bd55ae937",
   "metadata": {},
   "outputs": [
    {
     "name": "stdout",
     "output_type": "stream",
     "text": [
      "Correlation Matrix:\n",
      "           Quantity     Value    Weight\n",
      "Quantity  1.000000 -0.006907 -0.021285\n",
      "Value    -0.006907  1.000000  0.036870\n",
      "Weight   -0.021285  0.036870  1.000000\n"
     ]
    }
   ],
   "source": [
    "# Correlation Matrix\n",
    "correlation_matrix = non_cat_df.corr()\n",
    "\n",
    "print(\"Correlation Matrix:\\n\", correlation_matrix)"
   ]
  },
  {
   "cell_type": "markdown",
   "id": "bafd0855-129a-4c05-bf00-599069c92e85",
   "metadata": {},
   "source": [
    "# Correlation Interpretation:\n",
    "All the correlation values are close to zero, indicating weak or no linear relationships between the variables.\n",
    "Quantity, Value, and Weight behave independently, meaning that changes in one of these variables do not significantly affect the others.\n",
    "This lack of strong correlation could imply that the Quantity of goods being transacted, their Value, and their Weight are influenced by different factors in the dataset."
   ]
  },
  {
   "cell_type": "markdown",
   "id": "6d3f3c53-b0f5-4e8b-ad67-3cc3b8e6e220",
   "metadata": {},
   "source": [
    "## **2.Categorical Data Analysis**"
   ]
  },
  {
   "cell_type": "markdown",
   "id": "2860df45-4451-408d-827c-2b410bb4368a",
   "metadata": {},
   "source": [
    "**Frequency Distribution for Categorical Data (e.g., Country, Product, Shipping_Method)**"
   ]
  },
  {
   "cell_type": "code",
   "execution_count": 25,
   "id": "38203a16-8b37-4d83-b1d0-b8f61f326221",
   "metadata": {},
   "outputs": [
    {
     "name": "stdout",
     "output_type": "stream",
     "text": [
      "Frequency of Country:\n",
      " Country\n",
      "Congo                          23\n",
      "French Southern Territories    16\n",
      "Mozambique                     16\n",
      "Portugal                       15\n",
      "Dominica                       15\n",
      "                               ..\n",
      "Fiji                            3\n",
      "Turkmenistan                    3\n",
      "Marshall Islands                2\n",
      "Yemen                           2\n",
      "Nepal                           1\n",
      "Name: count, Length: 242, dtype: int64 \n",
      "\n",
      "Frequency of Product:\n",
      " Product\n",
      "compare           7\n",
      "most              6\n",
      "service           6\n",
      "fish              6\n",
      "southern          6\n",
      "                 ..\n",
      "responsibility    1\n",
      "quality           1\n",
      "send              1\n",
      "real              1\n",
      "throughout        1\n",
      "Name: count, Length: 835, dtype: int64 \n",
      "\n",
      "Frequency of Shipping_Method:\n",
      " Shipping_Method\n",
      "Land    676\n",
      "Sea     674\n",
      "Air     651\n",
      "Name: count, dtype: int64 \n",
      "\n",
      "Frequency of Import_Export:\n",
      " Import_Export\n",
      "Import    1020\n",
      "Export     981\n",
      "Name: count, dtype: int64 \n",
      "\n",
      "Frequency of Payment_Terms:\n",
      " Payment_Terms\n",
      "Prepaid             532\n",
      "Cash on Delivery    495\n",
      "Net 30              490\n",
      "Net 60              484\n",
      "Name: count, dtype: int64 \n",
      "\n"
     ]
    }
   ],
   "source": [
    "# Frequency counts for categorical columns\n",
    "category_columns = ['Country', 'Product', 'Shipping_Method','Import_Export' , \"Payment_Terms\"]\n",
    "for col in category_columns:\n",
    "    print(f\"Frequency of {col}:\\n\", samp_data[col].value_counts(), \"\\n\")"
   ]
  },
  {
   "cell_type": "markdown",
   "id": "1c95846b-2629-4007-af6a-f50b78573570",
   "metadata": {},
   "source": [
    "# Frequency of Country:\n",
    "Top Countries: Congo (23), French Southern Territories (16), Mozambique (16), Portugal (15) and Dominica (15) are the most frequent countries in the dataset.\n",
    "\n",
    "Least Frequent Countries: Some countries like Fiji (3), Turkmenistan (3), Marshall Islands (2), Yemen (2), and Nepal (1) appear infrequently.\n",
    "\n",
    "# Frequency of Product:\n",
    "Top Products: Products like compare (7), most, service, fish, southern appear most frequently (6 occurrences each).\n",
    "\n",
    "Rare Products: Products like responsibility, quality, send, real, and throughout are rare, appearing only once.\n",
    "\n",
    "With 835 unique products, this indicates a broad variety of products, but a few seem to dominate.\n",
    "\n",
    "# Frequency of Shipping Method:\n",
    "Land (676): Land shipping is the most common method.\n",
    "\n",
    "Sea (674) and Air (651) follow closely behind.\n",
    "\n",
    "This nearly even distribution of shipping methods suggests flexibility in shipping based on product or location requirements.\n",
    "\n",
    "# Frequency of Import/Export:\n",
    "Export (981): Slightly less transactions of exports than imports.\n",
    "\n",
    "Import (1020): The number of import transactions is almost equal to exports.\n",
    "\n",
    "This balance indicates that the dataset contains a nearly equal mix of import and export transactions.\n",
    "\n",
    "# Frequency of Payment Terms:\n",
    "Prepaid (532): The most common payment term is Prepaid.\n",
    "\n",
    "Cash on Delivery (495), Net 30 (490), and Net 60 (484) follow closely.\n",
    "\n",
    "The distribution of payment terms suggests that multiple methods are nearly equally preferred, with no dominant term."
   ]
  },
  {
   "cell_type": "markdown",
   "id": "aa2bea80-fd20-43d1-9b89-908e23bf404b",
   "metadata": {},
   "source": [
    "**Cross-Tabulation ( Country vs Import_Export)**"
   ]
  },
  {
   "cell_type": "code",
   "execution_count": 26,
   "id": "64eca280-ca7e-427a-91ef-2e51cf2d14cd",
   "metadata": {},
   "outputs": [
    {
     "name": "stdout",
     "output_type": "stream",
     "text": [
      "Cross-tabulation of Country vs Import/Export:\n",
      " Import_Export   Export  Import\n",
      "Country                       \n",
      "Afghanistan          1       2\n",
      "Albania              8       4\n",
      "American Samoa       6       7\n",
      "Andorra              0       4\n",
      "Angola               3       5\n"
     ]
    }
   ],
   "source": [
    "# Cross-tabulation of categorical variables\n",
    "country_vs_import_export = pd.crosstab(samp_data['Country'], samp_data['Import_Export']).head()\n",
    "\n",
    "print(\"Cross-tabulation of Country vs Import/Export:\\n\", country_vs_import_export)"
   ]
  },
  {
   "cell_type": "markdown",
   "id": "a4382045-e06d-46ee-bd8f-609a5acd97ca",
   "metadata": {},
   "source": [
    "# Top 5 Countries in Import/Export:\n",
    "The cross-tabulation shows how different countries engage in trade. While Albania lean more toward exports, Andorra primarily focuses on imports. American Samoa, Afganistan and Angola shows a balanced trade pattern."
   ]
  },
  {
   "cell_type": "markdown",
   "id": "100cb7ce-83c0-417f-a59a-b00b559d5f98",
   "metadata": {},
   "source": [
    "**Inferential Statistics**"
   ]
  },
  {
   "cell_type": "code",
   "execution_count": 27,
   "id": "ce6000a9-cf8a-4af6-baf6-1e0a0c3d641d",
   "metadata": {},
   "outputs": [
    {
     "name": "stdout",
     "output_type": "stream",
     "text": [
      "t-statistic: -0.24414046898230846\n",
      "p-value: 0.8071470850608734\n"
     ]
    }
   ],
   "source": [
    "from scipy import stats\n",
    "\n",
    "# Subsetting data for imports and exports\n",
    "import_data = samp_data[samp_data['Import_Export'] == 'Import']['Value']\n",
    "export_data = samp_data[samp_data['Import_Export'] == 'Export']['Value']\n",
    "\n",
    "# t-test to compare means of import vs export values\n",
    "t_stat, p_value = stats.ttest_ind(import_data, export_data)\n",
    "\n",
    "print(\"t-statistic:\", t_stat)\n",
    "print(\"p-value:\", p_value)"
   ]
  },
  {
   "cell_type": "markdown",
   "id": "67ac5208-2b52-45b4-9868-5edf79d8ca75",
   "metadata": {},
   "source": [
    "**Chi-Square Test for Categorical Variables ( Country vs Import_Export)**"
   ]
  },
  {
   "cell_type": "code",
   "execution_count": 28,
   "id": "c85ea1d7-adf9-4d9c-8973-092387b4cd41",
   "metadata": {},
   "outputs": [
    {
     "name": "stdout",
     "output_type": "stream",
     "text": [
      "Chi-squared Statistic: 266.71161379784695\n",
      "p-value: 0.12261602742945026\n"
     ]
    }
   ],
   "source": [
    "# Chi-squared test of independence between Country and Import_Export\n",
    "contingency_table = pd.crosstab(samp_data['Country'], samp_data['Import_Export'])\n",
    "chi2_stat, p_val, dof, ex = stats.chi2_contingency(contingency_table)\n",
    "\n",
    "print(\"Chi-squared Statistic:\", chi2_stat)\n",
    "print(\"p-value:\", p_val)"
   ]
  },
  {
   "cell_type": "markdown",
   "id": "c8c092ed-fea7-48d3-b5b8-7d2856b3b89b",
   "metadata": {},
   "source": [
    "**ANOVA (Compare Value Across Different Product Categories)**"
   ]
  },
  {
   "cell_type": "code",
   "execution_count": 29,
   "id": "cdb581b3-942f-44d0-a130-3154d4d0a019",
   "metadata": {},
   "outputs": [
    {
     "name": "stdout",
     "output_type": "stream",
     "text": [
      "ANOVA F-statistic: 0.9904738231450525\n",
      "p-value: 0.557888282118191\n"
     ]
    }
   ],
   "source": [
    "product_groups = [group['Value'].values for name, group in samp_data.groupby('Product')]\n",
    "\n",
    "f_stat, p_value = stats.f_oneway(*product_groups)\n",
    "\n",
    "print(\"ANOVA F-statistic:\", f_stat)\n",
    "print(\"p-value:\", p_value)"
   ]
  },
  {
   "cell_type": "markdown",
   "id": "e065b180-e0aa-48fa-aa79-0cc00711a4fb",
   "metadata": {},
   "source": [
    "##  **Visualization**"
   ]
  },
  {
   "cell_type": "code",
   "execution_count": 12,
   "id": "5c098c4c-10da-416b-ad4e-b57b0f453cb3",
   "metadata": {},
   "outputs": [],
   "source": [
    "import seaborn as sns\n",
    "import matplotlib.pyplot as plt"
   ]
  },
  {
   "cell_type": "code",
   "execution_count": 15,
   "id": "be7a300b-dedc-41ae-8d1a-44c1999bd51a",
   "metadata": {},
   "outputs": [
    {
     "data": {
      "image/png": "[encoded data removed]",
      "text/plain": [
       "<Figure size 640x480 with 1 Axes>"
      ]
     },
     "metadata": {},
     "output_type": "display_data"
    }
   ],
   "source": [
    "\n",
    "# Getting the top 10 categories by frequency or total value\n",
    "top_10_categories = samp_data['Product'].value_counts().nlargest(10).index\n",
    "\n",
    "# Filtering the DataFrame to only include the top 10 categories\n",
    "top_10_sample = samp_data[samp_data['Product'].isin(top_10_categories)]\n",
    "\n",
    "# Boxplot for value based on top 10 product categories\n",
    "sns.boxplot(x='Product', y='Value', data=top_10_sample)\n",
    "plt.title('Boxplot of Value by Top 10 Products')\n",
    "plt.xticks(rotation=90)\n",
    "plt.show()"
   ]
  },
  {
   "cell_type": "markdown",
   "id": "2147af8d-b30b-4db8-812a-0539520a0778",
   "metadata": {},
   "source": [
    "**Scatter Plot of Quantity vs Value**"
   ]
  },
  {
   "cell_type": "code",
   "execution_count": 31,
   "id": "c5537336-ed12-45e3-9d08-38b38009d9f0",
   "metadata": {},
   "outputs": [
    {
     "data": {
      "image/png": "[encoded data removed]",
      "text/plain": [
       "<Figure size 640x480 with 1 Axes>"
      ]
     },
     "metadata": {},
     "output_type": "display_data"
    }
   ],
   "source": [
    "# Scatter plot of Quantity vs Value\n",
    "plt.scatter(samp_data['Quantity'], samp_data['Value'])\n",
    "plt.title('Scatter Plot of Quantity vs Value')\n",
    "plt.xlabel('Quantity')\n",
    "plt.ylabel('Value')\n",
    "plt.show()"
   ]
  },
  {
   "cell_type": "markdown",
   "id": "d30bb7f4-1707-4fa3-a47f-0b283963be02",
   "metadata": {},
   "source": [
    "Pie Chart for payment terms"
   ]
  },
  {
   "cell_type": "code",
   "execution_count": 32,
   "id": "4557f7ea-379f-4e0a-ad9c-f050c7fcb6b9",
   "metadata": {},
   "outputs": [
    {
     "data": {
      "image/png": "[encoded data removed]",
      "text/plain": [
       "<Figure size 640x480 with 1 Axes>"
      ]
     },
     "metadata": {},
     "output_type": "display_data"
    }
   ],
   "source": [
    "prepaid = 0 \n",
    "net30 = 0\n",
    "cod = 0\n",
    "net60 = 0\n",
    "\n",
    "\n",
    "for i in range(len(samp_data['Payment_Terms'])):\n",
    "    payment_term = samp_data['Payment_Terms'].iloc[i] \n",
    "    \n",
    "    if payment_term == 'Prepaid':\n",
    "        prepaid += 1  # Increment the count for prepaid\n",
    "        \n",
    "    elif payment_term == 'Net 30':\n",
    "        net30 += 1  # Increment the count for Net 30\n",
    "        \n",
    "    elif payment_term == 'Cash on Delivery':\n",
    "        cod += 1  # Increment the count for Cash on Delivery\n",
    "        \n",
    "    elif payment_term == 'Net 60':\n",
    "        net60 += 1  # Increment the count for Net 60\n",
    "\n",
    "Payment_Terms = [prepaid, net30, cod, net60]\n",
    "labels = ['Prepaid', 'Net 30', 'Cash on Delivery', 'Net 60']\n",
    "\n",
    "plt.pie(Payment_Terms, labels=labels, autopct='%.2f')\n",
    "plt.title('Pie Plot of Payment Terms')\n",
    "\n",
    "plt.show()\n"
   ]
  },
  {
   "cell_type": "markdown",
   "id": "cfbf6652-ed5d-44c1-9f60-13be81859f21",
   "metadata": {},
   "source": [
    "Through pie chart we can say that all 4 payment terms are more or less are equally preferred during the transactions \n",
    "The highest one is prepaid with 26.59% of the total weightage."
   ]
  },
  {
   "cell_type": "markdown",
   "id": "5b5f0b6b-18cb-4e99-bd46-85ebd3cf57a2",
   "metadata": {},
   "source": [
    "**Histogram of Value**"
   ]
  },
  {
   "cell_type": "code",
   "execution_count": 33,
   "id": "67f49450-f86d-451a-a6cd-11a40def8b6a",
   "metadata": {},
   "outputs": [
    {
     "data": {
      "image/png": "[encoded data removed]",
      "text/plain": [
       "<Figure size 640x480 with 1 Axes>"
      ]
     },
     "metadata": {},
     "output_type": "display_data"
    }
   ],
   "source": [
    "# Histogram of the 'Value' column\n",
    "plt.hist(samp_data['Value'], bins=20, edgecolor='k')\n",
    "plt.title('Histogram of Transaction Values')\n",
    "plt.xlabel('Value')\n",
    "plt.ylabel('Frequency')\n",
    "plt.show()"
   ]
  },
  {
   "cell_type": "code",
   "execution_count": null,
   "id": "d2343f6c-18d8-4382-a45e-6ac1e74f6136",
   "metadata": {},
   "outputs": [],
   "source": []
  },
  {
   "cell_type": "code",
   "execution_count": null,
   "id": "af9d9de0-bd3d-4dcf-ad1d-d134f0678bcd",
   "metadata": {},
   "outputs": [],
   "source": []
  },
  {
   "cell_type": "markdown",
   "id": "cb5d6134-d50b-4e68-8502-599eb3f03fec",
   "metadata": {},
   "source": [
    "# NON-CATEGORICAL DATA"
   ]
  },
  {
   "cell_type": "markdown",
   "id": "011429e6-8c01-48ac-a446-39e572431c7c",
   "metadata": {},
   "source": [
    "# COMPOSITE MEASURE"
   ]
  },
  {
   "cell_type": "code",
   "execution_count": 34,
   "id": "9d2647f5-6acd-4dc6-a2fb-107b6fa850a8",
   "metadata": {},
   "outputs": [
    {
     "name": "stdout",
     "output_type": "stream",
     "text": [
      "Coefficient of variation for Quantity :  0.5725386063063524\n",
      "Coefficient of variation for Value :  0.5527443633300138\n",
      "Coefficient of variation for Weight :  0.5885252605019352\n"
     ]
    }
   ],
   "source": [
    "import statistics as stats\n",
    "\n",
    "# coefficient of quantity\n",
    "Coeff_Var_Quantity = stats.stdev(non_cat_df['Quantity'])/stats.mean(non_cat_df['Quantity'])\n",
    "print('Coefficient of variation for Quantity : ', Coeff_Var_Quantity)\n",
    "\n",
    "Coeff_Var_Value = stats.stdev(non_cat_df['Value'])/stats.mean(non_cat_df['Value'])\n",
    "print('Coefficient of variation for Value : ', Coeff_Var_Value)\n",
    "\n",
    "# coefficient of weight\n",
    "Coeff_Var_Weight = stats.stdev(non_cat_df['Weight'])/stats.mean(non_cat_df['Weight'])\n",
    "print('Coefficient of variation for Weight : ', Coeff_Var_Weight) "
   ]
  },
  {
   "cell_type": "markdown",
   "id": "d125249d-cc51-487f-ab47-56c6594fa7f4",
   "metadata": {},
   "source": [
    "Coefficient of variation tells us about how much the variability is present within the datadet,\n",
    "So here:\n",
    "\n",
    "# QUANTITY:\n",
    "Quantities have variation of 0.5725386063063524\n",
    "This implies that  ->\n",
    "1. Quantities are spread out around the mean by approx 57.25% of the mean value.\n",
    "2. They are not to much clustered around the mean but have different quantities' ranges.\n",
    "\n",
    "# VALUE: \n",
    "Values have variation of 0.5527443633300138\n",
    "This implies that ->\n",
    "1. Values are spread around the mean by approx 55.27% of the mean value.\n",
    "2. Different values for different transactions is present.\n",
    "\n",
    "# WEIGHT:\n",
    "Weights have variation of 0.5885252605019352 among them\n",
    "This implies that ->\n",
    "1. Weights are spread around the mean by approx 58.85% of the mean value.\n",
    "2. Inconsistency in weights are here (which means different weights for different quantities are present)\n",
    "                                      "
   ]
  },
  {
   "cell_type": "code",
   "execution_count": 35,
   "id": "563187bc-9ca7-4eab-b834-d5ffd55f5f13",
   "metadata": {},
   "outputs": [
    {
     "data": {
      "text/plain": [
       "-0.021284999022391487"
      ]
     },
     "execution_count": 35,
     "metadata": {},
     "output_type": "execute_result"
    }
   ],
   "source": [
    "# correlation between quantity and weight\n",
    "non_cat_df['Quantity'].corr(non_cat_df['Weight'])"
   ]
  },
  {
   "cell_type": "markdown",
   "id": "eb388e72-277b-4cb3-a5fc-03133334ed3a",
   "metadata": {},
   "source": [
    "# Correlation between Quantities and Weights\n",
    "\n",
    "The correlation between the quantites and the weights is 0.021284999022391487 which indicates a weak correlation between the 2, and these can be 2 possible reasons for that:\n",
    "\n",
    "1. In a manufacturing setting, if you measure the weight of products and their quantities,\n",
    "a weak correlation might indicate that weight doesn’t scale linearly with quantity, \n",
    "possibly due to varying product types or sizes.\n",
    "\n",
    "2. For consumer goods where packaging varies, the quantity and weight might not have\n",
    "a strong linear relationship due to differences in packaging materials and sizes."
   ]
  },
  {
   "cell_type": "code",
   "execution_count": 36,
   "id": "e9dc4ba3-c6d1-4a87-a9bc-e9639fd46016",
   "metadata": {},
   "outputs": [
    {
     "data": {
      "text/plain": [
       "-0.0069068318997548474"
      ]
     },
     "execution_count": 36,
     "metadata": {},
     "output_type": "execute_result"
    }
   ],
   "source": [
    "# correlation between quantity and Value\n",
    "non_cat_df['Quantity'].corr(non_cat_df['Value'])"
   ]
  },
  {
   "cell_type": "markdown",
   "id": "e8d18426-0fcd-4220-b68a-810fc6b39fb7",
   "metadata": {},
   "source": [
    "# Correlation between Quantity and Value \n",
    "The correlation is very weak which tells the quantity is weakly correlated with the transcation value.\n",
    "This can happen due to the change in market trends, discounts given, customer demographics etc. reasons."
   ]
  },
  {
   "cell_type": "code",
   "execution_count": 37,
   "id": "8e53b94b-fe5f-4dd2-9a2e-060e460be7c4",
   "metadata": {},
   "outputs": [],
   "source": [
    "import scipy.stats as stats"
   ]
  },
  {
   "cell_type": "code",
   "execution_count": 38,
   "id": "cfd87f6d-f75e-4857-bcc6-c058354ea2df",
   "metadata": {},
   "outputs": [
    {
     "data": {
      "text/plain": [
       "(4819.658657940017, 5067.845589936045)"
      ]
     },
     "execution_count": 38,
     "metadata": {},
     "output_type": "execute_result"
    }
   ],
   "source": [
    "# calculation confidence interval for quantity\n",
    "\n",
    "mean = np.mean(non_cat_df['Quantity'])\n",
    "std_error = stats.sem(non_cat_df['Quantity'])\n",
    "\n",
    "confidence = 0.95 # 95% comfidence level\n",
    "margin_of_error = std_error * stats.t.ppf((1 + confidence) / 2., len(non_cat_df['Quantity']) - 1)\n",
    "confidence_interval = (mean - margin_of_error, mean + margin_of_error)\n",
    "\n",
    "confidence_interval"
   ]
  },
  {
   "cell_type": "markdown",
   "id": "b2e8ad32-0556-4809-8355-3a81cafbf5e3",
   "metadata": {},
   "source": [
    "# confidnce interval of Quantity\n",
    "This will tells us that the actual average quantity of transactions (including import and export, for the whole dataset) will lie in between (4819.658657940017, 5067.845589936045).\n"
   ]
  },
  {
   "cell_type": "code",
   "execution_count": 39,
   "id": "8bda1bb9-5058-496a-9c3e-cd04f78ebb69",
   "metadata": {},
   "outputs": [
    {
     "data": {
      "text/plain": [
       "(2404.9494109734264, 2532.341143749212)"
      ]
     },
     "execution_count": 39,
     "metadata": {},
     "output_type": "execute_result"
    }
   ],
   "source": [
    "# calculation confidence interval for Weights\n",
    "\n",
    "mean = np.mean(non_cat_df['Weight'])\n",
    "std_error = stats.sem(non_cat_df['Weight'])\n",
    "\n",
    "confidence = 0.95 # 95% comfidence level\n",
    "margin_of_error = std_error * stats.t.ppf((1 + confidence) / 2., len(non_cat_df['Weight']) - 1)\n",
    "confidence_interval = (mean - margin_of_error, mean + margin_of_error)\n",
    "\n",
    "confidence_interval"
   ]
  },
  {
   "cell_type": "markdown",
   "id": "533395e1-79c8-48a6-b8f7-3a2629f17a71",
   "metadata": {},
   "source": [
    "# confidence interval of Weight\n",
    "This will tells us that the actual average weight of transactions (including import and export, for the whole dataset) will lie in between (2404.9494109734264, 2532.341143749212)."
   ]
  },
  {
   "cell_type": "code",
   "execution_count": 96,
   "id": "1eef1f23-70b2-43e5-80e3-d718ae24eec2",
   "metadata": {},
   "outputs": [],
   "source": [
    "# <<---------- end of composite measure ------------>>"
   ]
  },
  {
   "cell_type": "markdown",
   "id": "0ad9957e-5eae-4564-a0d6-31408794e8ca",
   "metadata": {},
   "source": [
    "# INFERENTIAL STATISTICS"
   ]
  },
  {
   "cell_type": "markdown",
   "id": "f9a86f34-a17c-496b-a1ca-1e485a3c1e00",
   "metadata": {},
   "source": [
    "# TEST OF MEAN"
   ]
  },
  {
   "cell_type": "markdown",
   "id": "c0c7e61f-65fe-482d-ab6b-bb733cef6316",
   "metadata": {},
   "source": [
    "# T - test\n",
    " As the columns belongs to same dataset and are information about same entity we will\n",
    " perform paired T - test. "
   ]
  },
  {
   "cell_type": "code",
   "execution_count": 40,
   "id": "230f5a4a-6810-484d-a5fc-8dc6245209cd",
   "metadata": {},
   "outputs": [
    {
     "name": "stdout",
     "output_type": "stream",
     "text": [
      "T-Statistic, p_value and df:  TtestResult(statistic=34.50253000505805, pvalue=4.43194031271173e-205, df=2000)\n",
      "Signifiance difference between the means\n"
     ]
    }
   ],
   "source": [
    "# Test on Quantity and Weight\n",
    "t_stats1 = stats.ttest_rel(non_cat_df['Quantity'], non_cat_df['Weight'])\n",
    "print('T-Statistic, p_value and df: ', t_stats1)\n",
    "\n",
    "significance_level = 0.05\n",
    "\n",
    "if t_stats1.pvalue < significance_level:\n",
    "    print('Signifiance difference between the means')\n",
    "else:\n",
    "    print('No Signifiance difference between the means')"
   ]
  },
  {
   "cell_type": "code",
   "execution_count": 41,
   "id": "2b2de57e-c181-49b0-8215-fbb0dac51dc6",
   "metadata": {},
   "outputs": [
    {
     "name": "stdout",
     "output_type": "stream",
     "text": [
      "T-Statistic, p_value and df:  TtestResult(statistic=-2.5004026710678033, pvalue=0.012484698357619586, df=2000)\n",
      "Signifiance difference between the means\n"
     ]
    }
   ],
   "source": [
    "# Test on Quantity and Value\n",
    "t_stats2 = stats.ttest_rel(non_cat_df['Quantity'], non_cat_df['Value'])\n",
    "print('T-Statistic, p_value and df: ', t_stats2)\n",
    "\n",
    "\n",
    "significance_level = 0.05\n",
    "\n",
    "if t_stats2.pvalue < significance_level:\n",
    "    print('Signifiance difference between the means')\n",
    "else:\n",
    "    print('No Signifiance difference between the means')"
   ]
  },
  {
   "cell_type": "code",
   "execution_count": 42,
   "id": "f24ca2bf-9205-45ec-8931-aad6bfec7d49",
   "metadata": {},
   "outputs": [
    {
     "name": "stdout",
     "output_type": "stream",
     "text": [
      "T-Statistic, p_value and df:  TtestResult(statistic=-38.26252040217714, pvalue=7.720364741161975e-241, df=2000)\n",
      "Signifiance difference between the means\n"
     ]
    }
   ],
   "source": [
    "# Test on Weight and Value\n",
    "t_stats3 = stats.ttest_rel(non_cat_df['Weight'], non_cat_df['Value'])\n",
    "print('T-Statistic, p_value and df: ', t_stats3)\n",
    "\n",
    "\n",
    "significance_level = 0.05\n",
    "\n",
    "if t_stats3.pvalue < significance_level:\n",
    "    print('Signifiance difference between the means')\n",
    "else:\n",
    "    print('No Signifiance difference between the means')"
   ]
  },
  {
   "cell_type": "code",
   "execution_count": 103,
   "id": "d2e4bc89-f088-401f-bd4c-a84df2287fd7",
   "metadata": {},
   "outputs": [],
   "source": [
    "# <<--------- end of test of Mean ------------->>"
   ]
  },
  {
   "cell_type": "code",
   "execution_count": null,
   "id": "17f64643-9553-40e5-a994-d769ff5fe17f",
   "metadata": {},
   "outputs": [],
   "source": []
  },
  {
   "cell_type": "markdown",
   "id": "168e8b64-03e9-4679-b6fd-a34b53965991",
   "metadata": {},
   "source": [
    "# Test of variance:\n",
    "\n",
    "1. F - TEST - using test on quantity and weight"
   ]
  },
  {
   "cell_type": "code",
   "execution_count": 43,
   "id": "def0982a-62d0-4971-b82d-c1763eac77da",
   "metadata": {},
   "outputs": [
    {
     "name": "stdout",
     "output_type": "stream",
     "text": [
      "Variance of Quantity :  8011667.701526749\n",
      "Variance of Weight :  2110802.484543539\n",
      "p_value for 2 tail:  2.22e-16\n",
      "The variances are significantly different\n"
     ]
    }
   ],
   "source": [
    "var_Quantity = np.var(non_cat_df['Quantity'], ddof = 1)\n",
    "var_Weight = np.var(non_cat_df['Weight'], ddof = 1)\n",
    "\n",
    "print('Variance of Quantity : ', var_Quantity)\n",
    "print('Variance of Weight : ', var_Weight)\n",
    "\n",
    "F = var_Quantity / var_Weight\n",
    "\n",
    "dof1 = len(non_cat_df['Quantity']) - 1\n",
    "dof2 = len(non_cat_df['Weight']) - 1\n",
    "\n",
    "p_value = 1 - stats.f.cdf(F, dof1, dof2) # cdf = cumulative distribution function\n",
    "\n",
    "p_value_2T = np.round(p_value * 2, 18)\n",
    "print(\"p_value for 2 tail: \", p_value_2T)\n",
    "\n",
    "significance_level = 0.05\n",
    "\n",
    "if (p_value_2T < significance_level):\n",
    "    print(\"The variances are significantly different\")\n",
    "\n",
    "else:\n",
    "    print(\"The variances are not significantly different\")"
   ]
  },
  {
   "cell_type": "markdown",
   "id": "7266d9df-9ca6-43a9-8e30-3063f0d8385b",
   "metadata": {},
   "source": [
    "The cause of significantly different could be less variance of weight as comapre to quantity which also implies that weight is small spread around the mean as comapre to quantity.\n"
   ]
  },
  {
   "cell_type": "markdown",
   "id": "1a76051b-64e5-4f51-a43a-137143177e9d",
   "metadata": {},
   "source": [
    "2. LEVENE TEST - using test on quantity and value\n",
    "\n",
    "For this test lets assume that both entities have equal variance"
   ]
  },
  {
   "cell_type": "code",
   "execution_count": 44,
   "id": "d553dbef-aa90-4347-8b56-b62ba3d33eb0",
   "metadata": {},
   "outputs": [
    {
     "name": "stdout",
     "output_type": "stream",
     "text": [
      "levene's test stats:  0.28338512470194965\n",
      "p_value:  0.5945205886817372\n",
      "No significant difference between the variances\n"
     ]
    }
   ],
   "source": [
    "stat, p_value = stats.levene(non_cat_df['Quantity'], non_cat_df['Value'], center = 'median')\n",
    "print(\"levene's test stats: \", stat)\n",
    "print(\"p_value: \", p_value)\n",
    "\n",
    "significance_level = 0.05\n",
    "\n",
    "if p_value < significance_level:\n",
    "    print('Significant difference between the variances')\n",
    "\n",
    "else:\n",
    "    print('No significant difference between the variances')\n"
   ]
  },
  {
   "cell_type": "markdown",
   "id": "168e6a36-e324-4851-bf6a-6449f009f0de",
   "metadata": {},
   "source": [
    "3. BARTLETT TEST - using on weight and value"
   ]
  },
  {
   "cell_type": "code",
   "execution_count": 45,
   "id": "7e4b5b7e-9e0f-42d4-a29a-883f8f33efa8",
   "metadata": {},
   "outputs": [
    {
     "name": "stdout",
     "output_type": "stream",
     "text": [
      "Bartlett's Test Stats:  852.4145031318716\n",
      "P_Value:  2.17094660673684e-187\n",
      "Significant difference between the variances\n"
     ]
    }
   ],
   "source": [
    "stat, p_value = stats.bartlett(non_cat_df['Weight'], non_cat_df['Value'])\n",
    "print(\"Bartlett's Test Stats: \", stat)\n",
    "print(\"P_Value: \", p_value)\n",
    "\n",
    "significance_level = 0.05\n",
    "\n",
    "if p_value < significance_level:\n",
    "    print('Significant difference between the variances')\n",
    "else:\n",
    "    print('No significant difference between the variances')"
   ]
  },
  {
   "cell_type": "markdown",
   "id": "4e3f5505-2f5a-452f-a926-ae55735930ed",
   "metadata": {},
   "source": [
    "# PERFORMING LEVENE AND BARTLETT TEST ON ALL QUANTITY, VALUE AND WEIGHT"
   ]
  },
  {
   "cell_type": "code",
   "execution_count": 46,
   "id": "5358c066-acfa-4ad3-9a40-a35a9d85e47c",
   "metadata": {},
   "outputs": [
    {
     "name": "stdout",
     "output_type": "stream",
     "text": [
      "levene's test stats:  615.6566937732964\n",
      "p_value:  6.341639114455636e-244\n",
      "Significant difference between the variances\n"
     ]
    }
   ],
   "source": [
    "stat, p_value = stats.levene(non_cat_df['Quantity'],non_cat_df['Value'],non_cat_df['Weight'], center = 'median')\n",
    "print(\"levene's test stats: \", stat)\n",
    "print(\"p_value: \", p_value)\n",
    "\n",
    "significance_level = 0.05\n",
    "\n",
    "if p_value < significance_level:\n",
    "    print('Significant difference between the variances')\n",
    "\n",
    "else:\n",
    "    print('No significant difference between the variances')"
   ]
  },
  {
   "cell_type": "code",
   "execution_count": 47,
   "id": "f7b4015c-588e-4b63-aa74-af426c86a1d0",
   "metadata": {},
   "outputs": [
    {
     "name": "stdout",
     "output_type": "stream",
     "text": [
      "Bartlett's Test Stats:  1319.572651471452\n",
      "P_Value:  2.873687227840751e-287\n",
      "Significant difference between the variances\n"
     ]
    }
   ],
   "source": [
    "stat, p_value = stats.bartlett(non_cat_df['Weight'], non_cat_df['Value'], non_cat_df['Weight'])\n",
    "print(\"Bartlett's Test Stats: \", stat)\n",
    "print(\"P_Value: \", p_value)\n",
    "\n",
    "significance_level = 0.05\n",
    "\n",
    "if p_value < significance_level:\n",
    "    print('Significant difference between the variances')\n",
    "else:\n",
    "    print('No significant difference between the variances')"
   ]
  },
  {
   "cell_type": "code",
   "execution_count": 115,
   "id": "d6920cdf-c9cb-48d2-a063-dc82f43b8d56",
   "metadata": {},
   "outputs": [],
   "source": [
    "# <<------------------ end of test of Variance --------------->>"
   ]
  },
  {
   "cell_type": "markdown",
   "id": "047286c2-b773-4d00-a376-5ebb6045b729",
   "metadata": {},
   "source": [
    "# Test of PROPORTION"
   ]
  },
  {
   "cell_type": "markdown",
   "id": "f335025b-4c25-4a95-ae3f-f16986334789",
   "metadata": {},
   "source": [
    "# Z - TEST\n",
    "\n",
    "1. QUANTITY - checking proportion of quantity between 0 to 2000"
   ]
  },
  {
   "cell_type": "code",
   "execution_count": 48,
   "id": "9b9fd3c9-fcd7-4f6c-b66f-b67053035c6d",
   "metadata": {},
   "outputs": [
    {
     "name": "stdout",
     "output_type": "stream",
     "text": [
      "Sample proporation:  375\n",
      "Sample size:  2001\n",
      "hypothesized proportion 500\n",
      "Z-stats:  (-6.854552994053201e-16+11.194334560504478j)\n",
      "p_value:  0.0\n",
      "hypothesized proportion is significantly different from the proportion quantity\n"
     ]
    }
   ],
   "source": [
    "Pro_Quantity = 0 # Sample proportion\n",
    "for i in range(len(non_cat_df['Quantity'])):\n",
    "    n = non_cat_df['Quantity'].iloc[i]\n",
    "    if (0 <= n <= 2000):\n",
    "        Pro_Quantity += 1\n",
    "    \n",
    "Size_Quantity = len(non_cat_df['Quantity'])\n",
    "\n",
    "print('Sample proporation: ', Pro_Quantity)\n",
    "print('Sample size: ', Size_Quantity)\n",
    "\n",
    "hypothesize_proportion = 500  # Hypothesized quantity proportion\n",
    "\n",
    "print('hypothesized proportion', hypothesize_proportion)\n",
    "\n",
    "standard_error = (hypothesize_proportion * (1 - hypothesize_proportion) / Size_Quantity) ** 0.5\n",
    "\n",
    "z_stats = (Pro_Quantity - hypothesize_proportion) / standard_error\n",
    "\n",
    "p_value = 2 * (1 - stats.norm.cdf(abs(z_stats)))\n",
    "\n",
    "print('Z-stats: ', z_stats)\n",
    "print('p_value: ', p_value)\n",
    "\n",
    "significance_level = 0.05\n",
    "\n",
    "if p_value < significance_level:\n",
    "    print('hypothesized proportion is significantly different from the proportion quantity')\n",
    "else:\n",
    "    print('hypothesized proportion is not significantly different from the proportion quantity')\n",
    "    "
   ]
  },
  {
   "cell_type": "markdown",
   "id": "4d5abd3a-2f16-4775-a714-520f70f04c9a",
   "metadata": {},
   "source": [
    "2. WEIGHT - checking proportion of weights between 4000 to 4300"
   ]
  },
  {
   "cell_type": "code",
   "execution_count": 49,
   "id": "e04a44e2-298a-4789-85e5-1489c1c0c2b0",
   "metadata": {},
   "outputs": [
    {
     "name": "stdout",
     "output_type": "stream",
     "text": [
      "Sample proporation:  100\n",
      "Sample size:  2001\n",
      "hypothesized proportion 100\n",
      "Z-stats:  0j\n",
      "p_value:  1.0\n",
      "hypothesized proportion is not significantly different from the proportion quantity\n"
     ]
    }
   ],
   "source": [
    "Pro_Weight = 0 # Sample proportion\n",
    "for i in range(len(non_cat_df['Weight'])):\n",
    "    n = non_cat_df['Weight'].iloc[i]\n",
    "    if (4000 <= n <= 4300):\n",
    "        Pro_Weight += 1\n",
    "    \n",
    "Size_Weight = len(non_cat_df['Weight'])\n",
    "\n",
    "print('Sample proporation: ', Pro_Weight)\n",
    "print('Sample size: ', Size_Weight)\n",
    "\n",
    "hypothesize_proportion = 100  # Hypothesized quantity proportion\n",
    "\n",
    "print('hypothesized proportion', hypothesize_proportion)\n",
    "\n",
    "standard_error = (hypothesize_proportion * (1 - hypothesize_proportion) / Size_Weight) ** 0.5\n",
    "\n",
    "z_stats = (Pro_Weight - hypothesize_proportion) / standard_error\n",
    "\n",
    "p_value = 2 * (1 - stats.norm.cdf(abs(z_stats)))\n",
    "\n",
    "print('Z-stats: ', z_stats)\n",
    "print('p_value: ', p_value)\n",
    "\n",
    "significance_level = 0.05\n",
    "\n",
    "if p_value < significance_level:\n",
    "    print('hypothesized proportion is significantly different from the proportion quantity')\n",
    "else:\n",
    "    print('hypothesized proportion is not significantly different from the proportion quantity')\n",
    "    "
   ]
  },
  {
   "cell_type": "markdown",
   "id": "4a0dfc0e-d1cb-4f65-9e76-2a7fc1c1f7a1",
   "metadata": {},
   "source": [
    "3. VALUE - checking proportion of weights between 2600 to 3000"
   ]
  },
  {
   "cell_type": "code",
   "execution_count": 50,
   "id": "81505208-767a-489a-a6ec-ec94cb1b4446",
   "metadata": {},
   "outputs": [
    {
     "name": "stdout",
     "output_type": "stream",
     "text": [
      "Sample proporation:  86\n",
      "Sample size:  2001\n",
      "hypothesized proportion 50\n",
      "Z-stats:  (2.76688661560945e-15-45.1866875826706j)\n",
      "p_value:  0.0\n",
      "hypothesized proportion is significantly different from the proportion quantity\n"
     ]
    }
   ],
   "source": [
    "Pro_Value = 0 # Sample proportion\n",
    "for i in range(len(non_cat_df['Value'])):\n",
    "    n = non_cat_df['Value'].iloc[i]\n",
    "    if (2600 <= n <= 3000):\n",
    "        Pro_Value += 1\n",
    "    \n",
    "Size_Value = len(non_cat_df['Value'])\n",
    "\n",
    "print('Sample proporation: ', Pro_Value)\n",
    "print('Sample size: ', Size_Value)\n",
    "\n",
    "hypothesize_proportion = 50  # Hypothesized quantity proportion\n",
    "\n",
    "print('hypothesized proportion', hypothesize_proportion)\n",
    "\n",
    "standard_error = (hypothesize_proportion * (1 - hypothesize_proportion) / Size_Value) ** 0.5\n",
    "\n",
    "z_stats = (Pro_Weight - hypothesize_proportion) / standard_error\n",
    "\n",
    "p_value = 2 * (1 - stats.norm.cdf(abs(z_stats)))\n",
    "\n",
    "print('Z-stats: ', z_stats)\n",
    "print('p_value: ', p_value)\n",
    "\n",
    "significance_level = 0.05\n",
    "\n",
    "if p_value < significance_level:\n",
    "    print('hypothesized proportion is significantly different from the proportion quantity')\n",
    "else:\n",
    "    print('hypothesized proportion is not significantly different from the proportion quantity')\n",
    "    "
   ]
  },
  {
   "cell_type": "markdown",
   "id": "99b4a9f0-fd24-4d24-84df-ab5bd8898ece",
   "metadata": {},
   "source": [
    "In the above 3 z-test for Quantities, Weights and Values we have assumed some hypothesized proportion and checked if the actual sample proportion matches to it or not.\n",
    "this help to check assuptions about the same.\n",
    "    "
   ]
  },
  {
   "cell_type": "markdown",
   "id": "4eb26507-4d02-4a5d-a4fa-78581ce094e5",
   "metadata": {},
   "source": [
    "# chi - sq test"
   ]
  },
  {
   "cell_type": "code",
   "execution_count": 51,
   "id": "04a33a32-4591-401b-86e8-f56b2d48e95f",
   "metadata": {},
   "outputs": [
    {
     "name": "stdout",
     "output_type": "stream",
     "text": [
      "chi_stats:  5650477.312014302\n",
      "p_value:  0.0\n",
      "Significant difference in proportions between the samples\n"
     ]
    }
   ],
   "source": [
    "data = np.array([[non_cat_df['Quantity']],\n",
    "                [non_cat_df['Weight']],\n",
    "                [non_cat_df['Value']]])\n",
    "chi_stats, p_Value,_,_ = stats.chi2_contingency(data, correction = False)\n",
    "\n",
    "print('chi_stats: ', chi_stats)\n",
    "print('p_value: ', p_value)\n",
    "\n",
    "significance_level = 0.05\n",
    "\n",
    "if p_value < significance_level:\n",
    "    print(\"Significant difference in proportions between the samples\")\n",
    "\n",
    "else:\n",
    "    print(\"No significant difference in proportions between the samples\")"
   ]
  },
  {
   "cell_type": "code",
   "execution_count": null,
   "id": "0d762608-3355-4ee8-be1d-1cd7ed0f557b",
   "metadata": {},
   "outputs": [],
   "source": []
  },
  {
   "cell_type": "code",
   "execution_count": null,
   "id": "184d4568-39ef-4167-9eb1-399c8fbc4b6c",
   "metadata": {},
   "outputs": [],
   "source": [
    "# <<---------- end of test of proportion ---------------->>"
   ]
  },
  {
   "cell_type": "markdown",
   "id": "d8f765bc-4937-4230-b894-247bb67e27b3",
   "metadata": {},
   "source": [
    "# TEST OF CORRELATION"
   ]
  },
  {
   "cell_type": "markdown",
   "id": "5ba10e34-eb5c-4539-b152-1e316a3eba25",
   "metadata": {},
   "source": [
    "# 1. Shapiro-Wilk Test"
   ]
  },
  {
   "cell_type": "code",
   "execution_count": 52,
   "id": "2a592aab-e4c7-4ac8-ba4f-a05490c7fe12",
   "metadata": {},
   "outputs": [
    {
     "name": "stdout",
     "output_type": "stream",
     "text": [
      "Shapiro-wilk Test for:  Quantity\n",
      "Test stats:  0.9583092375333722  and p-value:  1.633252809892825e-23\n",
      "Reject (sample does not appear to be normally distributed)\n",
      "\n",
      "\n",
      "Shapiro-wilk Test for:  Weight\n",
      "Test stats:  0.9549307562553416  and p-value:  2.1967574445666278e-24\n",
      "Reject (sample does not appear to be normally distributed)\n",
      "\n",
      "\n",
      "Shapiro-wilk Test for:  Value\n",
      "Test stats:  0.9555813636780527  and p-value:  3.2037242243647993e-24\n",
      "Reject (sample does not appear to be normally distributed)\n"
     ]
    }
   ],
   "source": [
    "def shapiro_test(sample, name):\n",
    "    stat, p_value = stats.shapiro(sample)\n",
    "    print(\"Shapiro-wilk Test for: \", name)\n",
    "    print(\"Test stats: \", stat, \" and p-value: \", p_value)\n",
    "\n",
    "    significance_level = 0.05\n",
    "    if p_value > significance_level:\n",
    "        print(\"Fail to reject (sample is consistent with normality)\")\n",
    "    else:\n",
    "        print(\"Reject (sample does not appear to be normally distributed)\")\n",
    "\n",
    "\n",
    "shapiro_test(non_cat_df['Quantity'], \"Quantity\")\n",
    "print(\"\\n\")\n",
    "shapiro_test(non_cat_df['Weight'], \"Weight\")\n",
    "print(\"\\n\")\n",
    "shapiro_test(non_cat_df['Value'], \"Value\")"
   ]
  },
  {
   "cell_type": "markdown",
   "id": "02f5c172-64a8-4667-b0be-cb5f6c10df52",
   "metadata": {},
   "source": [
    "From the upper results we can say that there is asymmetry in all the 3 samples.\n",
    "Maybe the samples follows any other distribution like exponential, log-normal or any other distribution.\n",
    "We should perform other tests of normality to get confirm results.\n"
   ]
  },
  {
   "cell_type": "markdown",
   "id": "1d3d44c7-dd0f-46dd-9c6c-b976a952e8db",
   "metadata": {},
   "source": [
    "<span style=\"color: red; font-weight: bold; font-size: 30px\">2. Kolmogorov-Smirnov Test</span>"
   ]
  },
  {
   "cell_type": "markdown",
   "id": "df762ed6-68f1-47fe-a043-5d43e39a187d",
   "metadata": {},
   "source": [
    "Now as the above test gives us the result that they do not belong to normal distribution, let's first check weather they are from same distribution or not."
   ]
  },
  {
   "cell_type": "code",
   "execution_count": 53,
   "id": "0357027c-8ef2-4f63-8671-97050d79ee8a",
   "metadata": {},
   "outputs": [
    {
     "name": "stdout",
     "output_type": "stream",
     "text": [
      "Quantity and Weight test stats:  0.4877561219390305 p-value:  3.306057435532813e-216\n",
      "Weight and Value test stats:  0.5252373813093453 p-value:  1.487817156568936e-252\n",
      "Value and Quantity test stats:  0.04247876061969016 p-value:  0.05405513464227734\n",
      "\n",
      "\n",
      "Quantity and Weight are from different distribution (rejected)\n",
      "\n",
      "\n",
      "Weight and Value are from different distribution (rejected)\n",
      "\n",
      "\n",
      "Value and Quantity are from same distribution (fail to reject)\n"
     ]
    }
   ],
   "source": [
    "# performing K-S test\n",
    "statQ_W, p_valueQ_W = stats.ks_2samp(non_cat_df['Quantity'], non_cat_df['Weight'])\n",
    "statW_V, p_valueW_V = stats.ks_2samp(non_cat_df['Weight'], non_cat_df['Value'])\n",
    "statV_Q, p_valueV_Q = stats.ks_2samp(non_cat_df['Value'], non_cat_df['Quantity'])\n",
    "\n",
    "print('Quantity and Weight test stats: ', statQ_W, 'p-value: ', p_valueQ_W)\n",
    "print('Weight and Value test stats: ', statW_V, 'p-value: ', p_valueW_V)\n",
    "print('Value and Quantity test stats: ', statV_Q, 'p-value: ', p_valueV_Q)\n",
    "\n",
    "significance_level = 0.05\n",
    "print('\\n')\n",
    "\n",
    "if p_valueQ_W > significance_level:\n",
    "    print(\"Quantity and Weight are from same distribution (fail to reject)\")\n",
    "else:\n",
    "    print(\"Quantity and Weight are from different distribution (rejected)\")\n",
    "\n",
    "print('\\n')\n",
    "\n",
    "if p_valueW_V > significance_level:\n",
    "    print(\"Weight and Value are from same distribution (fail to reject)\")\n",
    "else:\n",
    "    print(\"Weight and Value are from different distribution (rejected)\")\n",
    "\n",
    "print('\\n')\n",
    "\n",
    "if p_valueV_Q > significance_level:\n",
    "    print(\"Value and Quantity are from same distribution (fail to reject)\")\n",
    "else:\n",
    "    print(\"Value and Quantity are from different distribution (rejected)\")\n"
   ]
  },
  {
   "cell_type": "markdown",
   "id": "2a5c0c29-0d7f-49c9-8bfa-149c6d6b5adf",
   "metadata": {},
   "source": [
    "They all neither normally distributed nor belongs to same distribution"
   ]
  },
  {
   "cell_type": "code",
   "execution_count": 56,
   "id": "75796499-1fd1-4d61-9ab1-3a7710ee27cf",
   "metadata": {},
   "outputs": [
    {
     "data": {
      "image/png": "[encoded data removed]",
      "text/plain": [
       "<Figure size 640x480 with 1 Axes>"
      ]
     },
     "metadata": {},
     "output_type": "display_data"
    }
   ],
   "source": [
    "sns.histplot(non_cat_df['Quantity'], kde = True, color = 'red')\n",
    "plt.title('Distribution with Density Curve', fontsize=15)\n",
    "plt.xlabel('Data Values')\n",
    "plt.ylabel('Frequency')\n",
    "\n",
    "# Show the plot\n",
    "plt.show()"
   ]
  },
  {
   "cell_type": "code",
   "execution_count": 55,
   "id": "4c28d7ea-0156-4472-8388-acf38c8a1934",
   "metadata": {},
   "outputs": [
    {
     "data": {
      "image/png": "[encoded data removed]",
      "text/plain": [
       "<Figure size 640x480 with 1 Axes>"
      ]
     },
     "metadata": {},
     "output_type": "display_data"
    }
   ],
   "source": [
    "sns.histplot(non_cat_df['Weight'], kde = True, color = 'blue')\n",
    "plt.title('Distribution with Density Curve', fontsize=15)\n",
    "plt.xlabel('Data Values')\n",
    "plt.ylabel('Frequency')\n",
    "\n",
    "# Show the plot\n",
    "plt.show()"
   ]
  },
  {
   "cell_type": "code",
   "execution_count": 57,
   "id": "729a1092-4540-4e2c-bba5-0cc234907dee",
   "metadata": {},
   "outputs": [
    {
     "data": {
      "image/png": "[encoded data removed]",
      "text/plain": [
       "<Figure size 640x480 with 1 Axes>"
      ]
     },
     "metadata": {},
     "output_type": "display_data"
    }
   ],
   "source": [
    "sns.histplot(non_cat_df['Value'], kde = True, color = 'violet')\n",
    "plt.title('Distribution with Density Curve', fontsize=15)\n",
    "plt.xlabel('Data Values')\n",
    "plt.ylabel('Frequency')\n",
    "\n",
    "# Show the plot\n",
    "plt.show()"
   ]
  },
  {
   "cell_type": "markdown",
   "id": "61f123b3-0ebc-4fbb-ab85-39eb6529994a",
   "metadata": {},
   "source": [
    "# Observations | Findings\n",
    "1.\tData Overview:\n",
    "Key variables include categorical data (like country, product, import/export, shipping method), and numerical data (like quantity, value, and weight).\n",
    "\n",
    "2.\tImport/Export Trends:\n",
    "Significant variation was observed across countries in terms of both volume and value of imports and exports.\n",
    "Some countries focus more on exports while others have higher import activities, potentially highlighting trade imbalances or specialization in certain industries.\n",
    "3.\tDominant Product Categories:\n",
    "Certain product categories showed a high volume and value of transactions. These categories potentially drive the bulk of trade in the dataset.\n",
    "4.\tShipping Methods:\n",
    "The most frequently used shipping methods were identified. High-value transactions often used faster and more secure shipping options, while lower-value transactions relied on slower, cost-effective methods.\n"
   ]
  },
  {
   "cell_type": "markdown",
   "id": "0b78dfac-12ab-4980-90b8-3122a65a74c2",
   "metadata": {},
   "source": [
    "# Managerial Insights\n",
    "1.\tStrategic Focus on Key Product Categories:\n",
    "The dominance of certain product categories suggests that businesses should focus on optimizing operations, sourcing, and distribution in these areas. Enhancing the supply chain efficiency for these products could significantly impact revenue.\n",
    "\n",
    "2.\tShipping Method Optimization:\n",
    "The relationship between shipping methods and transaction value indicates that businesses could benefit from strategic shipping choices. For high-value shipments, investing in more secure and faster shipping methods can minimize risks and enhance customer satisfaction.\n",
    "\n",
    "3.\tCountry-Specific Trade Strategies:\n",
    "The variation in import/export activities across countries suggests that businesses should adopt country-specific trade strategies. Understanding the trade flows and adjusting the supply chain for each region could lead to cost savings and market expansion.\n"
   ]
  },
  {
   "cell_type": "markdown",
   "id": "559cb165-f0c1-4346-b397-8619271f78e4",
   "metadata": {},
   "source": [
    "# Recommendations\n",
    "1.\tData-Driven Decision-Making:\n",
    "Implement regular monitoring and analysis of trade data to spot emerging trends. Leveraging advanced analytics tools like predictive modeling could further enhance the accuracy of future trade predictions.\n",
    "2.\tOptimize Shipping Methods for Cost Efficiency:\n",
    "For lower-value goods, businesses could explore more cost-effective shipping methods, potentially using consolidated shipping or partnerships with local carriers to reduce expenses.\n",
    "3.\tCountry-Specific Partnerships:\n",
    "Develop strategic partnerships in countries with high import/export activities to capitalize on local market trends. Engaging in joint ventures or partnerships with local firms can improve access to resources and lower operational costs.\n"
   ]
  }
 ],
 "metadata": {
  "kernelspec": {
   "display_name": "Python 3 (ipykernel)",
   "language": "python",
   "name": "python3"
  },
  "language_info": {
   "codemirror_mode": {
    "name": "ipython",
    "version": 3
   },
   "file_extension": ".py",
   "mimetype": "text/x-python",
   "name": "python",
   "nbconvert_exporter": "python",
   "pygments_lexer": "ipython3",
   "version": "3.12.4"
  }
 },
 "nbformat": 4,
 "nbformat_minor": 5
}
